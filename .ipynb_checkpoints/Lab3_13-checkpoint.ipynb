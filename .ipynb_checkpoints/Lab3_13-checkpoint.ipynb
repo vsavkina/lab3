{
 "cells": [
  {
   "cell_type": "code",
   "execution_count": 17,
   "id": "a51b22cb",
   "metadata": {},
   "outputs": [],
   "source": [
    "import numpy as np\n",
    "import pandas as pd\n",
    "import seaborn as sns\n",
    "import networkx as nx\n",
    "import matplotlib.pyplot as plt\n",
    "from scipy.stats import zscore\n",
    "from scipy.spatial.distance import pdist, squareform"
   ]
  },
  {
   "cell_type": "code",
   "execution_count": 41,
   "id": "3b842798",
   "metadata": {},
   "outputs": [],
   "source": [
    "np.set_printoptions(suppress=True)"
   ]
  },
  {
   "cell_type": "markdown",
   "id": "58ea7196",
   "metadata": {},
   "source": [
    "<h2>0.1. Предварительная обработка данных</h2>"
   ]
  },
  {
   "cell_type": "code",
   "execution_count": null,
   "id": "4db0d9b5",
   "metadata": {},
   "outputs": [],
   "source": [
    "X = pd.read_excel('X_4_13.xlsx', header=None)\n",
    "\n",
    "Y = pd.read_excel('Y_4_13.xlsx', header=None)\n",
    "\n",
    "X"
   ]
  },
  {
   "cell_type": "code",
   "execution_count": 9,
   "id": "c8b5399e",
   "metadata": {},
   "outputs": [
    {
     "data": {
      "text/html": [
       "<div>\n",
       "<style scoped>\n",
       "    .dataframe tbody tr th:only-of-type {\n",
       "        vertical-align: middle;\n",
       "    }\n",
       "\n",
       "    .dataframe tbody tr th {\n",
       "        vertical-align: top;\n",
       "    }\n",
       "\n",
       "    .dataframe thead th {\n",
       "        text-align: right;\n",
       "    }\n",
       "</style>\n",
       "<table border=\"1\" class=\"dataframe\">\n",
       "  <thead>\n",
       "    <tr style=\"text-align: right;\">\n",
       "      <th></th>\n",
       "      <th>0</th>\n",
       "      <th>1</th>\n",
       "      <th>2</th>\n",
       "      <th>3</th>\n",
       "    </tr>\n",
       "  </thead>\n",
       "  <tbody>\n",
       "    <tr>\n",
       "      <th>count</th>\n",
       "      <td>200.000000</td>\n",
       "      <td>200.000000</td>\n",
       "      <td>200.000000</td>\n",
       "      <td>200.000000</td>\n",
       "    </tr>\n",
       "    <tr>\n",
       "      <th>mean</th>\n",
       "      <td>2.999880</td>\n",
       "      <td>0.978973</td>\n",
       "      <td>3.062841</td>\n",
       "      <td>-0.062961</td>\n",
       "    </tr>\n",
       "    <tr>\n",
       "      <th>std</th>\n",
       "      <td>2.665400</td>\n",
       "      <td>1.190919</td>\n",
       "      <td>2.636290</td>\n",
       "      <td>1.659201</td>\n",
       "    </tr>\n",
       "    <tr>\n",
       "      <th>min</th>\n",
       "      <td>-1.770611</td>\n",
       "      <td>-1.098890</td>\n",
       "      <td>-1.686545</td>\n",
       "      <td>-3.001601</td>\n",
       "    </tr>\n",
       "    <tr>\n",
       "      <th>25%</th>\n",
       "      <td>0.967169</td>\n",
       "      <td>0.094967</td>\n",
       "      <td>1.037855</td>\n",
       "      <td>-1.337723</td>\n",
       "    </tr>\n",
       "    <tr>\n",
       "      <th>50%</th>\n",
       "      <td>3.043348</td>\n",
       "      <td>1.013192</td>\n",
       "      <td>3.001980</td>\n",
       "      <td>-0.003096</td>\n",
       "    </tr>\n",
       "    <tr>\n",
       "      <th>75%</th>\n",
       "      <td>5.053307</td>\n",
       "      <td>1.939336</td>\n",
       "      <td>5.064147</td>\n",
       "      <td>1.147939</td>\n",
       "    </tr>\n",
       "    <tr>\n",
       "      <th>max</th>\n",
       "      <td>7.684823</td>\n",
       "      <td>3.085918</td>\n",
       "      <td>8.097899</td>\n",
       "      <td>3.110166</td>\n",
       "    </tr>\n",
       "  </tbody>\n",
       "</table>\n",
       "</div>"
      ],
      "text/plain": [
       "                0           1           2           3\n",
       "count  200.000000  200.000000  200.000000  200.000000\n",
       "mean     2.999880    0.978973    3.062841   -0.062961\n",
       "std      2.665400    1.190919    2.636290    1.659201\n",
       "min     -1.770611   -1.098890   -1.686545   -3.001601\n",
       "25%      0.967169    0.094967    1.037855   -1.337723\n",
       "50%      3.043348    1.013192    3.001980   -0.003096\n",
       "75%      5.053307    1.939336    5.064147    1.147939\n",
       "max      7.684823    3.085918    8.097899    3.110166"
      ]
     },
     "execution_count": 9,
     "metadata": {},
     "output_type": "execute_result"
    }
   ],
   "source": [
    "X.describe()"
   ]
  },
  {
   "cell_type": "code",
   "execution_count": 10,
   "id": "97bde927",
   "metadata": {},
   "outputs": [
    {
     "data": {
      "text/plain": [
       "0    0\n",
       "1    0\n",
       "2    0\n",
       "3    0\n",
       "dtype: int64"
      ]
     },
     "execution_count": 10,
     "metadata": {},
     "output_type": "execute_result"
    }
   ],
   "source": [
    "X.isnull().sum()"
   ]
  },
  {
   "cell_type": "code",
   "execution_count": 11,
   "id": "f7145ab1",
   "metadata": {},
   "outputs": [
    {
     "data": {
      "text/plain": [
       "<AxesSubplot:>"
      ]
     },
     "execution_count": 11,
     "metadata": {},
     "output_type": "execute_result"
    },
    {
     "data": {
      "image/png": "[encoded data removed]",
      "text/plain": [
       "<Figure size 720x288 with 1 Axes>"
      ]
     },
     "metadata": {
      "needs_background": "light"
     },
     "output_type": "display_data"
    }
   ],
   "source": [
    "plt.figure(figsize=(10,4))\n",
    "sns.boxplot(data=X, orient='h')"
   ]
  },
  {
   "cell_type": "code",
   "execution_count": 8,
   "id": "66f50ede",
   "metadata": {},
   "outputs": [
    {
     "data": {
      "text/html": [
       "<div>\n",
       "<style scoped>\n",
       "    .dataframe tbody tr th:only-of-type {\n",
       "        vertical-align: middle;\n",
       "    }\n",
       "\n",
       "    .dataframe tbody tr th {\n",
       "        vertical-align: top;\n",
       "    }\n",
       "\n",
       "    .dataframe thead th {\n",
       "        text-align: right;\n",
       "    }\n",
       "</style>\n",
       "<table border=\"1\" class=\"dataframe\">\n",
       "  <thead>\n",
       "    <tr style=\"text-align: right;\">\n",
       "      <th></th>\n",
       "      <th>0</th>\n",
       "      <th>1</th>\n",
       "      <th>2</th>\n",
       "      <th>3</th>\n",
       "    </tr>\n",
       "  </thead>\n",
       "  <tbody>\n",
       "    <tr>\n",
       "      <th>0</th>\n",
       "      <td>0.906940</td>\n",
       "      <td>1.006914</td>\n",
       "      <td>0.963778</td>\n",
       "      <td>0.824834</td>\n",
       "    </tr>\n",
       "    <tr>\n",
       "      <th>1</th>\n",
       "      <td>2.029085</td>\n",
       "      <td>0.799312</td>\n",
       "      <td>1.623610</td>\n",
       "      <td>0.952911</td>\n",
       "    </tr>\n",
       "    <tr>\n",
       "      <th>2</th>\n",
       "      <td>1.978421</td>\n",
       "      <td>1.102946</td>\n",
       "      <td>1.458704</td>\n",
       "      <td>0.978444</td>\n",
       "    </tr>\n",
       "    <tr>\n",
       "      <th>3</th>\n",
       "      <td>2.275134</td>\n",
       "      <td>0.829438</td>\n",
       "      <td>1.964464</td>\n",
       "      <td>1.040498</td>\n",
       "    </tr>\n",
       "    <tr>\n",
       "      <th>4</th>\n",
       "      <td>1.276684</td>\n",
       "      <td>0.056152</td>\n",
       "      <td>-0.198731</td>\n",
       "      <td>1.130742</td>\n",
       "    </tr>\n",
       "    <tr>\n",
       "      <th>...</th>\n",
       "      <td>...</td>\n",
       "      <td>...</td>\n",
       "      <td>...</td>\n",
       "      <td>...</td>\n",
       "    </tr>\n",
       "    <tr>\n",
       "      <th>195</th>\n",
       "      <td>2.011200</td>\n",
       "      <td>0.939179</td>\n",
       "      <td>1.924253</td>\n",
       "      <td>0.916095</td>\n",
       "    </tr>\n",
       "    <tr>\n",
       "      <th>196</th>\n",
       "      <td>2.166127</td>\n",
       "      <td>1.092028</td>\n",
       "      <td>1.849896</td>\n",
       "      <td>1.069608</td>\n",
       "    </tr>\n",
       "    <tr>\n",
       "      <th>197</th>\n",
       "      <td>1.004772</td>\n",
       "      <td>0.952281</td>\n",
       "      <td>0.960462</td>\n",
       "      <td>0.711798</td>\n",
       "    </tr>\n",
       "    <tr>\n",
       "      <th>198</th>\n",
       "      <td>1.894961</td>\n",
       "      <td>0.872430</td>\n",
       "      <td>1.811809</td>\n",
       "      <td>1.079972</td>\n",
       "    </tr>\n",
       "    <tr>\n",
       "      <th>199</th>\n",
       "      <td>1.964912</td>\n",
       "      <td>1.133258</td>\n",
       "      <td>2.427070</td>\n",
       "      <td>0.993946</td>\n",
       "    </tr>\n",
       "  </tbody>\n",
       "</table>\n",
       "<p>200 rows × 4 columns</p>\n",
       "</div>"
      ],
      "text/plain": [
       "            0         1         2         3\n",
       "0    0.906940  1.006914  0.963778  0.824834\n",
       "1    2.029085  0.799312  1.623610  0.952911\n",
       "2    1.978421  1.102946  1.458704  0.978444\n",
       "3    2.275134  0.829438  1.964464  1.040498\n",
       "4    1.276684  0.056152 -0.198731  1.130742\n",
       "..        ...       ...       ...       ...\n",
       "195  2.011200  0.939179  1.924253  0.916095\n",
       "196  2.166127  1.092028  1.849896  1.069608\n",
       "197  1.004772  0.952281  0.960462  0.711798\n",
       "198  1.894961  0.872430  1.811809  1.079972\n",
       "199  1.964912  1.133258  2.427070  0.993946\n",
       "\n",
       "[200 rows x 4 columns]"
      ]
     },
     "execution_count": 8,
     "metadata": {},
     "output_type": "execute_result"
    }
   ],
   "source": [
    "Y"
   ]
  },
  {
   "cell_type": "code",
   "execution_count": 12,
   "id": "2028b2e0",
   "metadata": {},
   "outputs": [
    {
     "data": {
      "text/plain": [
       "0    0\n",
       "1    0\n",
       "2    0\n",
       "3    0\n",
       "dtype: int64"
      ]
     },
     "execution_count": 12,
     "metadata": {},
     "output_type": "execute_result"
    }
   ],
   "source": [
    "Y.isnull().sum()"
   ]
  },
  {
   "cell_type": "code",
   "execution_count": 15,
   "id": "13f333b0",
   "metadata": {
    "scrolled": true
   },
   "outputs": [
    {
     "data": {
      "text/plain": [
       "<AxesSubplot:>"
      ]
     },
     "execution_count": 15,
     "metadata": {},
     "output_type": "execute_result"
    },
    {
     "data": {
      "image/png": "[encoded data removed]",
      "text/plain": [
       "<Figure size 1080x360 with 1 Axes>"
      ]
     },
     "metadata": {
      "needs_background": "light"
     },
     "output_type": "display_data"
    }
   ],
   "source": [
    "plt.figure(figsize=(15,5))\n",
    "sns.boxplot(data=Y, orient='h')"
   ]
  },
  {
   "cell_type": "markdown",
   "id": "daf1e104",
   "metadata": {},
   "source": [
    "Стандартизируем данные, используя z-оценку:"
   ]
  },
  {
   "cell_type": "code",
   "execution_count": 45,
   "id": "8b5fe772",
   "metadata": {},
   "outputs": [],
   "source": [
    "X_st = pd.DataFrame(zscore(X))\n",
    "Y_st = pd.DataFrame(zscore(Y))"
   ]
  },
  {
   "cell_type": "markdown",
   "id": "a9b2d656",
   "metadata": {},
   "source": [
    "Чтобы сделать предварительные выводы о количестве и видах кластеров, а также выбрать подходящий алгоритм кластеризации, визуализируем данные, предварительно уменьшив их размерность до n=2. Чтобы понять, насколько будет велика погрешность в этом случае, выполним SVD-разложение и рассчитаем ошибку аппроксимации:"
   ]
  },
  {
   "cell_type": "code",
   "execution_count": 59,
   "id": "15bea930",
   "metadata": {},
   "outputs": [],
   "source": [
    "def count_approx_error(S):\n",
    "    ev_table = pd.DataFrame()\n",
    "\n",
    "    pc_num = [i+1 for i in range(len(S))]\n",
    "    \n",
    "    ev_table[0] = pc_num\n",
    "    \n",
    "    ev_table[1] = S.round(2)\n",
    "    \n",
    "    qrS = S ** 2\n",
    "    \n",
    "    ev_table[2] = qrS.round(2)\n",
    "   \n",
    "    percentvar = [round(i/sum(qrS)*100,2) for i in S**2]\n",
    "    \n",
    "    ev_table[3] = percentvar\n",
    "    \n",
    "    ev_table[4] = np.cumsum(percentvar)\n",
    "\n",
    "    ev_table.columns=['Главные факторы', 'Сингулярные значения',\n",
    "                                    'Собственные значения', 'Вклад в вариацию(%)',\n",
    "                                    'Кумулятивный вклад в вариацию(%)']\n",
    "    return ev_table"
   ]
  },
  {
   "cell_type": "code",
   "execution_count": 60,
   "id": "a8762e35",
   "metadata": {},
   "outputs": [
    {
     "data": {
      "text/html": [
       "<div>\n",
       "<style scoped>\n",
       "    .dataframe tbody tr th:only-of-type {\n",
       "        vertical-align: middle;\n",
       "    }\n",
       "\n",
       "    .dataframe tbody tr th {\n",
       "        vertical-align: top;\n",
       "    }\n",
       "\n",
       "    .dataframe thead th {\n",
       "        text-align: right;\n",
       "    }\n",
       "</style>\n",
       "<table border=\"1\" class=\"dataframe\">\n",
       "  <thead>\n",
       "    <tr style=\"text-align: right;\">\n",
       "      <th></th>\n",
       "      <th>Главные факторы</th>\n",
       "      <th>Сингулярные значения</th>\n",
       "      <th>Собственные значения</th>\n",
       "      <th>Вклад в вариацию(%)</th>\n",
       "      <th>Кумулятивный вклад в вариацию(%)</th>\n",
       "    </tr>\n",
       "  </thead>\n",
       "  <tbody>\n",
       "    <tr>\n",
       "      <th>0</th>\n",
       "      <td>1</td>\n",
       "      <td>22.83</td>\n",
       "      <td>521.26</td>\n",
       "      <td>65.16</td>\n",
       "      <td>65.16</td>\n",
       "    </tr>\n",
       "    <tr>\n",
       "      <th>1</th>\n",
       "      <td>2</td>\n",
       "      <td>16.70</td>\n",
       "      <td>278.74</td>\n",
       "      <td>34.84</td>\n",
       "      <td>100.00</td>\n",
       "    </tr>\n",
       "    <tr>\n",
       "      <th>2</th>\n",
       "      <td>3</td>\n",
       "      <td>0.00</td>\n",
       "      <td>0.00</td>\n",
       "      <td>0.00</td>\n",
       "      <td>100.00</td>\n",
       "    </tr>\n",
       "    <tr>\n",
       "      <th>3</th>\n",
       "      <td>4</td>\n",
       "      <td>0.00</td>\n",
       "      <td>0.00</td>\n",
       "      <td>0.00</td>\n",
       "      <td>100.00</td>\n",
       "    </tr>\n",
       "  </tbody>\n",
       "</table>\n",
       "</div>"
      ],
      "text/plain": [
       "   Главные факторы  Сингулярные значения  Собственные значения  \\\n",
       "0                1                 22.83                521.26   \n",
       "1                2                 16.70                278.74   \n",
       "2                3                  0.00                  0.00   \n",
       "3                4                  0.00                  0.00   \n",
       "\n",
       "   Вклад в вариацию(%)  Кумулятивный вклад в вариацию(%)  \n",
       "0                65.16                             65.16  \n",
       "1                34.84                            100.00  \n",
       "2                 0.00                            100.00  \n",
       "3                 0.00                            100.00  "
      ]
     },
     "execution_count": 60,
     "metadata": {},
     "output_type": "execute_result"
    }
   ],
   "source": [
    "Ux, Sx, VTx = np.linalg.svd(X_st)\n",
    "count_approx_error(Sx)"
   ]
  },
  {
   "cell_type": "code",
   "execution_count": 61,
   "id": "67a4a6a3",
   "metadata": {
    "scrolled": true
   },
   "outputs": [
    {
     "data": {
      "text/html": [
       "<div>\n",
       "<style scoped>\n",
       "    .dataframe tbody tr th:only-of-type {\n",
       "        vertical-align: middle;\n",
       "    }\n",
       "\n",
       "    .dataframe tbody tr th {\n",
       "        vertical-align: top;\n",
       "    }\n",
       "\n",
       "    .dataframe thead th {\n",
       "        text-align: right;\n",
       "    }\n",
       "</style>\n",
       "<table border=\"1\" class=\"dataframe\">\n",
       "  <thead>\n",
       "    <tr style=\"text-align: right;\">\n",
       "      <th></th>\n",
       "      <th>Главные факторы</th>\n",
       "      <th>Сингулярные значения</th>\n",
       "      <th>Собственные значения</th>\n",
       "      <th>Вклад в вариацию(%)</th>\n",
       "      <th>Кумулятивный вклад в вариацию(%)</th>\n",
       "    </tr>\n",
       "  </thead>\n",
       "  <tbody>\n",
       "    <tr>\n",
       "      <th>0</th>\n",
       "      <td>1</td>\n",
       "      <td>22.11</td>\n",
       "      <td>488.90</td>\n",
       "      <td>61.11</td>\n",
       "      <td>61.11</td>\n",
       "    </tr>\n",
       "    <tr>\n",
       "      <th>1</th>\n",
       "      <td>2</td>\n",
       "      <td>14.20</td>\n",
       "      <td>201.64</td>\n",
       "      <td>25.20</td>\n",
       "      <td>86.31</td>\n",
       "    </tr>\n",
       "    <tr>\n",
       "      <th>2</th>\n",
       "      <td>3</td>\n",
       "      <td>9.92</td>\n",
       "      <td>98.34</td>\n",
       "      <td>12.29</td>\n",
       "      <td>98.60</td>\n",
       "    </tr>\n",
       "    <tr>\n",
       "      <th>3</th>\n",
       "      <td>4</td>\n",
       "      <td>3.33</td>\n",
       "      <td>11.12</td>\n",
       "      <td>1.39</td>\n",
       "      <td>99.99</td>\n",
       "    </tr>\n",
       "  </tbody>\n",
       "</table>\n",
       "</div>"
      ],
      "text/plain": [
       "   Главные факторы  Сингулярные значения  Собственные значения  \\\n",
       "0                1                 22.11                488.90   \n",
       "1                2                 14.20                201.64   \n",
       "2                3                  9.92                 98.34   \n",
       "3                4                  3.33                 11.12   \n",
       "\n",
       "   Вклад в вариацию(%)  Кумулятивный вклад в вариацию(%)  \n",
       "0                61.11                             61.11  \n",
       "1                25.20                             86.31  \n",
       "2                12.29                             98.60  \n",
       "3                 1.39                             99.99  "
      ]
     },
     "execution_count": 61,
     "metadata": {},
     "output_type": "execute_result"
    }
   ],
   "source": [
    "Uy, Sy, VTy = np.linalg.svd(Y_st)\n",
    "count_approx_error(Sy)"
   ]
  },
  {
   "cell_type": "markdown",
   "id": "b03e044e",
   "metadata": {},
   "source": [
    "В случае с датасетом X первые 2 признака сохраняют 100% информации. В случае с датасетом Y при n = 2 ошибка  составляет 13.69%, что достаточно мало для того, чтобы ориентироваться на такую аппроксимацию.\n",
    "\n",
    "Теперь визуализируем данные: построим карты объектов для X и для Y."
   ]
  },
  {
   "cell_type": "code",
   "execution_count": 63,
   "id": "5c283bb5",
   "metadata": {},
   "outputs": [
    {
     "data": {
      "text/plain": [
       "[<matplotlib.lines.Line2D at 0x274a597d670>]"
      ]
     },
     "execution_count": 63,
     "metadata": {},
     "output_type": "execute_result"
    },
    {
     "data": {
      "image/png": "[encoded data removed]",
      "text/plain": [
       "<Figure size 432x288 with 1 Axes>"
      ]
     },
     "metadata": {
      "needs_background": "light"
     },
     "output_type": "display_data"
    }
   ],
   "source": [
    "X_2d = Ux[:,:2]\n",
    "plt.plot(X_2d[:,0], X_2d[:,1],'bo')"
   ]
  },
  {
   "cell_type": "code",
   "execution_count": 64,
   "id": "3972184d",
   "metadata": {},
   "outputs": [
    {
     "data": {
      "text/plain": [
       "[<matplotlib.lines.Line2D at 0x274a59d0940>]"
      ]
     },
     "execution_count": 64,
     "metadata": {},
     "output_type": "execute_result"
    },
    {
     "data": {
      "image/png": "[encoded data removed]",
      "text/plain": [
       "<Figure size 432x288 with 1 Axes>"
      ]
     },
     "metadata": {
      "needs_background": "light"
     },
     "output_type": "display_data"
    }
   ],
   "source": [
    "Y_2d = Uy[:,:2]\n",
    "plt.plot(Y_2d[:,0], Y_2d[:,1],'bo')"
   ]
  },
  {
   "cell_type": "markdown",
   "id": "76c7d24e",
   "metadata": {},
   "source": [
    "В датасете Y мы видим 3 четко сформированных кластера примерно одинакового размера, для каждого из которых можно найти центр. Предположительно любой алгоритм, использующий центры кластеров, даст соответствующий результат.\n",
    "\n",
    "Датасет X представляет собой 2 концентрических кластера, не имеющих центра. Вероятно, стандартные алгоритмы не смогут выполнить кластеризацию правильным образом."
   ]
  },
  {
   "cell_type": "markdown",
   "id": "39929fd1",
   "metadata": {},
   "source": [
    "<h2>0.2. Подготовка данных</h2>"
   ]
  },
  {
   "cell_type": "code",
   "execution_count": null,
   "id": "053d2893",
   "metadata": {},
   "outputs": [],
   "source": []
  }
 ],
 "metadata": {
  "kernelspec": {
   "display_name": "Python 3",
   "language": "python",
   "name": "python3"
  },
  "language_info": {
   "codemirror_mode": {
    "name": "ipython",
    "version": 3
   },
   "file_extension": ".py",
   "mimetype": "text/x-python",
   "name": "python",
   "nbconvert_exporter": "python",
   "pygments_lexer": "ipython3",
   "version": "3.8.8"
  }
 },
 "nbformat": 4,
 "nbformat_minor": 5
}
